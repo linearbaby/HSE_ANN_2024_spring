{
 "cells": [
  {
   "cell_type": "code",
   "execution_count": 1,
   "metadata": {},
   "outputs": [],
   "source": [
    "import pandas as pd"
   ]
  },
  {
   "cell_type": "code",
   "execution_count": 2,
   "metadata": {},
   "outputs": [
    {
     "data": {
      "text/html": [
       "<div>\n",
       "<style scoped>\n",
       "    .dataframe tbody tr th:only-of-type {\n",
       "        vertical-align: middle;\n",
       "    }\n",
       "\n",
       "    .dataframe tbody tr th {\n",
       "        vertical-align: top;\n",
       "    }\n",
       "\n",
       "    .dataframe thead th {\n",
       "        text-align: right;\n",
       "    }\n",
       "</style>\n",
       "<table border=\"1\" class=\"dataframe\">\n",
       "  <thead>\n",
       "    <tr style=\"text-align: right;\">\n",
       "      <th></th>\n",
       "      <th>0</th>\n",
       "      <th>1</th>\n",
       "      <th>2</th>\n",
       "      <th>3</th>\n",
       "      <th>4</th>\n",
       "      <th>5</th>\n",
       "      <th>6</th>\n",
       "    </tr>\n",
       "  </thead>\n",
       "  <tbody>\n",
       "    <tr>\n",
       "      <th>checkpoint-1000</th>\n",
       "      <td>Ты - бот-анекдот. Ты рассказываешь анекдоты, о...</td>\n",
       "      <td>Ты - бот-анекдот. Ты рассказываешь анекдоты, о...</td>\n",
       "      <td>Ты - бот-анекдот. Ты рассказываешь анекдоты, о...</td>\n",
       "      <td>Ты - бот-анекдот. Ты рассказываешь анекдоты, о...</td>\n",
       "      <td>Ты - бот-анекдот. Ты рассказываешь анекдоты, о...</td>\n",
       "      <td>Ты - бот-анекдот. Ты рассказываешь анекдоты, о...</td>\n",
       "      <td>Ты - бот-анекдот. Ты рассказываешь анекдоты, о...</td>\n",
       "    </tr>\n",
       "    <tr>\n",
       "      <th>checkpoint-3000</th>\n",
       "      <td>Ты - бот-анекдот. Ты рассказываешь анекдоты, о...</td>\n",
       "      <td>Ты - бот-анекдот. Ты рассказываешь анекдоты, о...</td>\n",
       "      <td>Ты - бот-анекдот. Ты рассказываешь анекдоты, о...</td>\n",
       "      <td>Ты - бот-анекдот. Ты рассказываешь анекдоты, о...</td>\n",
       "      <td>Ты - бот-анекдот. Ты рассказываешь анекдоты, о...</td>\n",
       "      <td>Ты - бот-анекдот. Ты рассказываешь анекдоты, о...</td>\n",
       "      <td>Ты - бот-анекдот. Ты рассказываешь анекдоты, о...</td>\n",
       "    </tr>\n",
       "    <tr>\n",
       "      <th>checkpoint-5000</th>\n",
       "      <td>Ты - бот-анекдот. Ты рассказываешь анекдоты, о...</td>\n",
       "      <td>Ты - бот-анекдот. Ты рассказываешь анекдоты, о...</td>\n",
       "      <td>Ты - бот-анекдот. Ты рассказываешь анекдоты, о...</td>\n",
       "      <td>Ты - бот-анекдот. Ты рассказываешь анекдоты, о...</td>\n",
       "      <td>Ты - бот-анекдот. Ты рассказываешь анекдоты, о...</td>\n",
       "      <td>Ты - бот-анекдот. Ты рассказываешь анекдоты, о...</td>\n",
       "      <td>Ты - бот-анекдот. Ты рассказываешь анекдоты, о...</td>\n",
       "    </tr>\n",
       "    <tr>\n",
       "      <th>checkpoint-8000</th>\n",
       "      <td>Ты - бот-анекдот. Ты рассказываешь анекдоты, о...</td>\n",
       "      <td>Ты - бот-анекдот. Ты рассказываешь анекдоты, о...</td>\n",
       "      <td>Ты - бот-анекдот. Ты рассказываешь анекдоты, о...</td>\n",
       "      <td>Ты - бот-анекдот. Ты рассказываешь анекдоты, о...</td>\n",
       "      <td>Ты - бот-анекдот. Ты рассказываешь анекдоты, о...</td>\n",
       "      <td>Ты - бот-анекдот. Ты рассказываешь анекдоты, о...</td>\n",
       "      <td>Ты - бот-анекдот. Ты рассказываешь анекдоты, о...</td>\n",
       "    </tr>\n",
       "    <tr>\n",
       "      <th>checkpoint-9000</th>\n",
       "      <td>Ты - бот-анекдот. Ты рассказываешь анекдоты, о...</td>\n",
       "      <td>Ты - бот-анекдот. Ты рассказываешь анекдоты, о...</td>\n",
       "      <td>Ты - бот-анекдот. Ты рассказываешь анекдоты, о...</td>\n",
       "      <td>Ты - бот-анекдот. Ты рассказываешь анекдоты, о...</td>\n",
       "      <td>Ты - бот-анекдот. Ты рассказываешь анекдоты, о...</td>\n",
       "      <td>Ты - бот-анекдот. Ты рассказываешь анекдоты, о...</td>\n",
       "      <td>Ты - бот-анекдот. Ты рассказываешь анекдоты, о...</td>\n",
       "    </tr>\n",
       "  </tbody>\n",
       "</table>\n",
       "</div>"
      ],
      "text/plain": [
       "                                                                 0  \\\n",
       "checkpoint-1000  Ты - бот-анекдот. Ты рассказываешь анекдоты, о...   \n",
       "checkpoint-3000  Ты - бот-анекдот. Ты рассказываешь анекдоты, о...   \n",
       "checkpoint-5000  Ты - бот-анекдот. Ты рассказываешь анекдоты, о...   \n",
       "checkpoint-8000  Ты - бот-анекдот. Ты рассказываешь анекдоты, о...   \n",
       "checkpoint-9000  Ты - бот-анекдот. Ты рассказываешь анекдоты, о...   \n",
       "\n",
       "                                                                 1  \\\n",
       "checkpoint-1000  Ты - бот-анекдот. Ты рассказываешь анекдоты, о...   \n",
       "checkpoint-3000  Ты - бот-анекдот. Ты рассказываешь анекдоты, о...   \n",
       "checkpoint-5000  Ты - бот-анекдот. Ты рассказываешь анекдоты, о...   \n",
       "checkpoint-8000  Ты - бот-анекдот. Ты рассказываешь анекдоты, о...   \n",
       "checkpoint-9000  Ты - бот-анекдот. Ты рассказываешь анекдоты, о...   \n",
       "\n",
       "                                                                 2  \\\n",
       "checkpoint-1000  Ты - бот-анекдот. Ты рассказываешь анекдоты, о...   \n",
       "checkpoint-3000  Ты - бот-анекдот. Ты рассказываешь анекдоты, о...   \n",
       "checkpoint-5000  Ты - бот-анекдот. Ты рассказываешь анекдоты, о...   \n",
       "checkpoint-8000  Ты - бот-анекдот. Ты рассказываешь анекдоты, о...   \n",
       "checkpoint-9000  Ты - бот-анекдот. Ты рассказываешь анекдоты, о...   \n",
       "\n",
       "                                                                 3  \\\n",
       "checkpoint-1000  Ты - бот-анекдот. Ты рассказываешь анекдоты, о...   \n",
       "checkpoint-3000  Ты - бот-анекдот. Ты рассказываешь анекдоты, о...   \n",
       "checkpoint-5000  Ты - бот-анекдот. Ты рассказываешь анекдоты, о...   \n",
       "checkpoint-8000  Ты - бот-анекдот. Ты рассказываешь анекдоты, о...   \n",
       "checkpoint-9000  Ты - бот-анекдот. Ты рассказываешь анекдоты, о...   \n",
       "\n",
       "                                                                 4  \\\n",
       "checkpoint-1000  Ты - бот-анекдот. Ты рассказываешь анекдоты, о...   \n",
       "checkpoint-3000  Ты - бот-анекдот. Ты рассказываешь анекдоты, о...   \n",
       "checkpoint-5000  Ты - бот-анекдот. Ты рассказываешь анекдоты, о...   \n",
       "checkpoint-8000  Ты - бот-анекдот. Ты рассказываешь анекдоты, о...   \n",
       "checkpoint-9000  Ты - бот-анекдот. Ты рассказываешь анекдоты, о...   \n",
       "\n",
       "                                                                 5  \\\n",
       "checkpoint-1000  Ты - бот-анекдот. Ты рассказываешь анекдоты, о...   \n",
       "checkpoint-3000  Ты - бот-анекдот. Ты рассказываешь анекдоты, о...   \n",
       "checkpoint-5000  Ты - бот-анекдот. Ты рассказываешь анекдоты, о...   \n",
       "checkpoint-8000  Ты - бот-анекдот. Ты рассказываешь анекдоты, о...   \n",
       "checkpoint-9000  Ты - бот-анекдот. Ты рассказываешь анекдоты, о...   \n",
       "\n",
       "                                                                 6  \n",
       "checkpoint-1000  Ты - бот-анекдот. Ты рассказываешь анекдоты, о...  \n",
       "checkpoint-3000  Ты - бот-анекдот. Ты рассказываешь анекдоты, о...  \n",
       "checkpoint-5000  Ты - бот-анекдот. Ты рассказываешь анекдоты, о...  \n",
       "checkpoint-8000  Ты - бот-анекдот. Ты рассказываешь анекдоты, о...  \n",
       "checkpoint-9000  Ты - бот-анекдот. Ты рассказываешь анекдоты, о...  "
      ]
     },
     "execution_count": 2,
     "metadata": {},
     "output_type": "execute_result"
    }
   ],
   "source": [
    "df = pd.read_csv(\"check_checkpoints_2.csv\", index_col=0)\n",
    "df"
   ]
  },
  {
   "cell_type": "code",
   "execution_count": 3,
   "metadata": {},
   "outputs": [],
   "source": [
    "def check_anek(df, anek_num):\n",
    "    for check_name, anek in zip(\n",
    "        df.index,\n",
    "        df.iloc[:, anek_num].str.split(\"A:\").str[1]\n",
    "    ):\n",
    "        print(\"!!!!!!!!!!\")\n",
    "        print(check_name)\n",
    "        print(anek)\n"
   ]
  },
  {
   "cell_type": "code",
   "execution_count": 11,
   "metadata": {},
   "outputs": [
    {
     "ename": "IndexError",
     "evalue": "single positional indexer is out-of-bounds",
     "output_type": "error",
     "traceback": [
      "\u001b[0;31m---------------------------------------------------------------------------\u001b[0m",
      "\u001b[0;31mIndexError\u001b[0m                                Traceback (most recent call last)",
      "Cell \u001b[0;32mIn[11], line 1\u001b[0m\n\u001b[0;32m----> 1\u001b[0m \u001b[43mcheck_anek\u001b[49m\u001b[43m(\u001b[49m\u001b[43mdf\u001b[49m\u001b[43m,\u001b[49m\u001b[43m \u001b[49m\u001b[38;5;241;43m7\u001b[39;49m\u001b[43m)\u001b[49m\n",
      "Cell \u001b[0;32mIn[3], line 4\u001b[0m, in \u001b[0;36mcheck_anek\u001b[0;34m(df, anek_num)\u001b[0m\n\u001b[1;32m      1\u001b[0m \u001b[38;5;28;01mdef\u001b[39;00m \u001b[38;5;21mcheck_anek\u001b[39m(df, anek_num):\n\u001b[1;32m      2\u001b[0m     \u001b[38;5;28;01mfor\u001b[39;00m check_name, anek \u001b[38;5;129;01min\u001b[39;00m \u001b[38;5;28mzip\u001b[39m(\n\u001b[1;32m      3\u001b[0m         df\u001b[38;5;241m.\u001b[39mindex,\n\u001b[0;32m----> 4\u001b[0m         \u001b[43mdf\u001b[49m\u001b[38;5;241;43m.\u001b[39;49m\u001b[43miloc\u001b[49m\u001b[43m[\u001b[49m\u001b[43m:\u001b[49m\u001b[43m,\u001b[49m\u001b[43m \u001b[49m\u001b[43manek_num\u001b[49m\u001b[43m]\u001b[49m\u001b[38;5;241m.\u001b[39mstr\u001b[38;5;241m.\u001b[39msplit(\u001b[38;5;124m\"\u001b[39m\u001b[38;5;124mA:\u001b[39m\u001b[38;5;124m\"\u001b[39m)\u001b[38;5;241m.\u001b[39mstr[\u001b[38;5;241m1\u001b[39m]\n\u001b[1;32m      5\u001b[0m     ):\n\u001b[1;32m      6\u001b[0m         \u001b[38;5;28mprint\u001b[39m(\u001b[38;5;124m\"\u001b[39m\u001b[38;5;124m!!!!!!!!!!\u001b[39m\u001b[38;5;124m\"\u001b[39m)\n\u001b[1;32m      7\u001b[0m         \u001b[38;5;28mprint\u001b[39m(check_name)\n",
      "File \u001b[0;32m~/HSE/2cem/neural/project/venv/lib/python3.8/site-packages/pandas/core/indexing.py:1097\u001b[0m, in \u001b[0;36m_LocationIndexer.__getitem__\u001b[0;34m(self, key)\u001b[0m\n\u001b[1;32m   1095\u001b[0m     \u001b[38;5;28;01mif\u001b[39;00m \u001b[38;5;28mself\u001b[39m\u001b[38;5;241m.\u001b[39m_is_scalar_access(key):\n\u001b[1;32m   1096\u001b[0m         \u001b[38;5;28;01mreturn\u001b[39;00m \u001b[38;5;28mself\u001b[39m\u001b[38;5;241m.\u001b[39mobj\u001b[38;5;241m.\u001b[39m_get_value(\u001b[38;5;241m*\u001b[39mkey, takeable\u001b[38;5;241m=\u001b[39m\u001b[38;5;28mself\u001b[39m\u001b[38;5;241m.\u001b[39m_takeable)\n\u001b[0;32m-> 1097\u001b[0m     \u001b[38;5;28;01mreturn\u001b[39;00m \u001b[38;5;28;43mself\u001b[39;49m\u001b[38;5;241;43m.\u001b[39;49m\u001b[43m_getitem_tuple\u001b[49m\u001b[43m(\u001b[49m\u001b[43mkey\u001b[49m\u001b[43m)\u001b[49m\n\u001b[1;32m   1098\u001b[0m \u001b[38;5;28;01melse\u001b[39;00m:\n\u001b[1;32m   1099\u001b[0m     \u001b[38;5;66;03m# we by definition only have the 0th axis\u001b[39;00m\n\u001b[1;32m   1100\u001b[0m     axis \u001b[38;5;241m=\u001b[39m \u001b[38;5;28mself\u001b[39m\u001b[38;5;241m.\u001b[39maxis \u001b[38;5;129;01mor\u001b[39;00m \u001b[38;5;241m0\u001b[39m\n",
      "File \u001b[0;32m~/HSE/2cem/neural/project/venv/lib/python3.8/site-packages/pandas/core/indexing.py:1594\u001b[0m, in \u001b[0;36m_iLocIndexer._getitem_tuple\u001b[0;34m(self, tup)\u001b[0m\n\u001b[1;32m   1593\u001b[0m \u001b[38;5;28;01mdef\u001b[39;00m \u001b[38;5;21m_getitem_tuple\u001b[39m(\u001b[38;5;28mself\u001b[39m, tup: \u001b[38;5;28mtuple\u001b[39m):\n\u001b[0;32m-> 1594\u001b[0m     tup \u001b[38;5;241m=\u001b[39m \u001b[38;5;28;43mself\u001b[39;49m\u001b[38;5;241;43m.\u001b[39;49m\u001b[43m_validate_tuple_indexer\u001b[49m\u001b[43m(\u001b[49m\u001b[43mtup\u001b[49m\u001b[43m)\u001b[49m\n\u001b[1;32m   1595\u001b[0m     \u001b[38;5;28;01mwith\u001b[39;00m suppress(IndexingError):\n\u001b[1;32m   1596\u001b[0m         \u001b[38;5;28;01mreturn\u001b[39;00m \u001b[38;5;28mself\u001b[39m\u001b[38;5;241m.\u001b[39m_getitem_lowerdim(tup)\n",
      "File \u001b[0;32m~/HSE/2cem/neural/project/venv/lib/python3.8/site-packages/pandas/core/indexing.py:904\u001b[0m, in \u001b[0;36m_LocationIndexer._validate_tuple_indexer\u001b[0;34m(self, key)\u001b[0m\n\u001b[1;32m    902\u001b[0m \u001b[38;5;28;01mfor\u001b[39;00m i, k \u001b[38;5;129;01min\u001b[39;00m \u001b[38;5;28menumerate\u001b[39m(key):\n\u001b[1;32m    903\u001b[0m     \u001b[38;5;28;01mtry\u001b[39;00m:\n\u001b[0;32m--> 904\u001b[0m         \u001b[38;5;28;43mself\u001b[39;49m\u001b[38;5;241;43m.\u001b[39;49m\u001b[43m_validate_key\u001b[49m\u001b[43m(\u001b[49m\u001b[43mk\u001b[49m\u001b[43m,\u001b[49m\u001b[43m \u001b[49m\u001b[43mi\u001b[49m\u001b[43m)\u001b[49m\n\u001b[1;32m    905\u001b[0m     \u001b[38;5;28;01mexcept\u001b[39;00m \u001b[38;5;167;01mValueError\u001b[39;00m \u001b[38;5;28;01mas\u001b[39;00m err:\n\u001b[1;32m    906\u001b[0m         \u001b[38;5;28;01mraise\u001b[39;00m \u001b[38;5;167;01mValueError\u001b[39;00m(\n\u001b[1;32m    907\u001b[0m             \u001b[38;5;124m\"\u001b[39m\u001b[38;5;124mLocation based indexing can only have \u001b[39m\u001b[38;5;124m\"\u001b[39m\n\u001b[1;32m    908\u001b[0m             \u001b[38;5;124mf\u001b[39m\u001b[38;5;124m\"\u001b[39m\u001b[38;5;124m[\u001b[39m\u001b[38;5;132;01m{\u001b[39;00m\u001b[38;5;28mself\u001b[39m\u001b[38;5;241m.\u001b[39m_valid_types\u001b[38;5;132;01m}\u001b[39;00m\u001b[38;5;124m] types\u001b[39m\u001b[38;5;124m\"\u001b[39m\n\u001b[1;32m    909\u001b[0m         ) \u001b[38;5;28;01mfrom\u001b[39;00m \u001b[38;5;21;01merr\u001b[39;00m\n",
      "File \u001b[0;32m~/HSE/2cem/neural/project/venv/lib/python3.8/site-packages/pandas/core/indexing.py:1496\u001b[0m, in \u001b[0;36m_iLocIndexer._validate_key\u001b[0;34m(self, key, axis)\u001b[0m\n\u001b[1;32m   1494\u001b[0m     \u001b[38;5;28;01mreturn\u001b[39;00m\n\u001b[1;32m   1495\u001b[0m \u001b[38;5;28;01melif\u001b[39;00m is_integer(key):\n\u001b[0;32m-> 1496\u001b[0m     \u001b[38;5;28;43mself\u001b[39;49m\u001b[38;5;241;43m.\u001b[39;49m\u001b[43m_validate_integer\u001b[49m\u001b[43m(\u001b[49m\u001b[43mkey\u001b[49m\u001b[43m,\u001b[49m\u001b[43m \u001b[49m\u001b[43maxis\u001b[49m\u001b[43m)\u001b[49m\n\u001b[1;32m   1497\u001b[0m \u001b[38;5;28;01melif\u001b[39;00m \u001b[38;5;28misinstance\u001b[39m(key, \u001b[38;5;28mtuple\u001b[39m):\n\u001b[1;32m   1498\u001b[0m     \u001b[38;5;66;03m# a tuple should already have been caught by this point\u001b[39;00m\n\u001b[1;32m   1499\u001b[0m     \u001b[38;5;66;03m# so don't treat a tuple as a valid indexer\u001b[39;00m\n\u001b[1;32m   1500\u001b[0m     \u001b[38;5;28;01mraise\u001b[39;00m IndexingError(\u001b[38;5;124m\"\u001b[39m\u001b[38;5;124mToo many indexers\u001b[39m\u001b[38;5;124m\"\u001b[39m)\n",
      "File \u001b[0;32m~/HSE/2cem/neural/project/venv/lib/python3.8/site-packages/pandas/core/indexing.py:1589\u001b[0m, in \u001b[0;36m_iLocIndexer._validate_integer\u001b[0;34m(self, key, axis)\u001b[0m\n\u001b[1;32m   1587\u001b[0m len_axis \u001b[38;5;241m=\u001b[39m \u001b[38;5;28mlen\u001b[39m(\u001b[38;5;28mself\u001b[39m\u001b[38;5;241m.\u001b[39mobj\u001b[38;5;241m.\u001b[39m_get_axis(axis))\n\u001b[1;32m   1588\u001b[0m \u001b[38;5;28;01mif\u001b[39;00m key \u001b[38;5;241m>\u001b[39m\u001b[38;5;241m=\u001b[39m len_axis \u001b[38;5;129;01mor\u001b[39;00m key \u001b[38;5;241m<\u001b[39m \u001b[38;5;241m-\u001b[39mlen_axis:\n\u001b[0;32m-> 1589\u001b[0m     \u001b[38;5;28;01mraise\u001b[39;00m \u001b[38;5;167;01mIndexError\u001b[39;00m(\u001b[38;5;124m\"\u001b[39m\u001b[38;5;124msingle positional indexer is out-of-bounds\u001b[39m\u001b[38;5;124m\"\u001b[39m)\n",
      "\u001b[0;31mIndexError\u001b[0m: single positional indexer is out-of-bounds"
     ]
    }
   ],
   "source": [
    "check_anek(df, 7)"
   ]
  },
  {
   "cell_type": "code",
   "execution_count": null,
   "metadata": {},
   "outputs": [],
   "source": []
  }
 ],
 "metadata": {
  "kernelspec": {
   "display_name": "venv",
   "language": "python",
   "name": "python3"
  },
  "language_info": {
   "codemirror_mode": {
    "name": "ipython",
    "version": 3
   },
   "file_extension": ".py",
   "mimetype": "text/x-python",
   "name": "python",
   "nbconvert_exporter": "python",
   "pygments_lexer": "ipython3",
   "version": "3.8.18"
  }
 },
 "nbformat": 4,
 "nbformat_minor": 2
}
